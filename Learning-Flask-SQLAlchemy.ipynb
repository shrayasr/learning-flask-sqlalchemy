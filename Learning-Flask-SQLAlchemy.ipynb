{
 "metadata": {
  "name": "",
  "signature": "sha256:2de02de7a165bbfcefdfd4bd3786a5766c98f74365b06e2d62110fe25cdc5254"
 },
 "nbformat": 3,
 "nbformat_minor": 0,
 "worksheets": [
  {
   "cells": [
    {
     "cell_type": "markdown",
     "metadata": {},
     "source": [
      "## Setup"
     ]
    },
    {
     "cell_type": "code",
     "collapsed": false,
     "input": [
      "# Import shiz\n",
      "from rsswala import db, Feed, Item, User"
     ],
     "language": "python",
     "metadata": {},
     "outputs": [],
     "prompt_number": 1
    },
    {
     "cell_type": "code",
     "collapsed": false,
     "input": [
      "# Create the db\n",
      "db.create_all()"
     ],
     "language": "python",
     "metadata": {},
     "outputs": [],
     "prompt_number": 2
    },
    {
     "cell_type": "code",
     "collapsed": false,
     "input": [
      "# Create users\n",
      "foo = User(\"foo\",\"password\")\n",
      "bar = User(\"bar\",\"password\")\n",
      "baz = User(\"baz\",\"password\")"
     ],
     "language": "python",
     "metadata": {},
     "outputs": [],
     "prompt_number": 3
    },
    {
     "cell_type": "code",
     "collapsed": false,
     "input": [
      "# Create feeds\n",
      "tc = Feed(\"techcrunch\",\"techcrunch\",\"techcrunch\",\"techcrunch\",foo)\n",
      "br = Feed(\"Best recipes\",\"Best recipes\",\"Best recipes\",\"Best recipes\",bar)"
     ],
     "language": "python",
     "metadata": {},
     "outputs": [],
     "prompt_number": 4
    },
    {
     "cell_type": "code",
     "collapsed": false,
     "input": [
      "# Associate feed to user\n",
      "tc.users.append(baz)"
     ],
     "language": "python",
     "metadata": {},
     "outputs": [],
     "prompt_number": 79
    },
    {
     "cell_type": "code",
     "collapsed": false,
     "input": [
      "# Create items\n",
      "tc_i1 = Item(tc, \"item1\",\"\",\"\",\"tc_item1\",\"tc_item1\",\"2010-01-01\")\n",
      "tc_i2 = Item(tc, \"item2\",\"\",\"\",\"tc_item2\",\"tc_item2\",\"2010-01-01\")\n",
      "br_i1 = Item(br, \"item1\",\"\",\"\",\"br_item2\",\"br_item2\",\"2020-02-02\")"
     ],
     "language": "python",
     "metadata": {},
     "outputs": [],
     "prompt_number": 5
    },
    {
     "cell_type": "code",
     "collapsed": false,
     "input": [
      "# Add objects into DB\n",
      "\n",
      "## Users\n",
      "db.session.add(foo)\n",
      "db.session.add(bar)\n",
      "db.session.add(baz)\n",
      "\n",
      "## Feeds\n",
      "db.session.add(tc)\n",
      "db.session.add(br)\n",
      "\n",
      "## Items\n",
      "db.session.add(tc_i1)\n",
      "db.session.add(tc_i2)\n",
      "db.session.add(br_i1)"
     ],
     "language": "python",
     "metadata": {},
     "outputs": [],
     "prompt_number": 6
    },
    {
     "cell_type": "code",
     "collapsed": false,
     "input": [
      "# Commit session\n",
      "db.session.commit()"
     ],
     "language": "python",
     "metadata": {},
     "outputs": [],
     "prompt_number": 81
    },
    {
     "cell_type": "code",
     "collapsed": false,
     "input": [
      "# Rollback session\n",
      "db.session.rollback()"
     ],
     "language": "python",
     "metadata": {},
     "outputs": [],
     "prompt_number": 21
    },
    {
     "cell_type": "markdown",
     "metadata": {},
     "source": [
      "---"
     ]
    },
    {
     "cell_type": "markdown",
     "metadata": {},
     "source": [
      "## Querying"
     ]
    },
    {
     "cell_type": "markdown",
     "metadata": {},
     "source": [
      "### Get list of all items for a user\n",
      "> Includes already read items too"
     ]
    },
    {
     "cell_type": "code",
     "collapsed": false,
     "input": [
      "## Method 1\n",
      "feeds_for_user = User.query.filter_by(email=\"foo\").first().feeds\n",
      "\n",
      "for feed in feeds_for_user:\n",
      "    print feed.items.all()"
     ],
     "language": "python",
     "metadata": {},
     "outputs": [
      {
       "output_type": "stream",
       "stream": "stdout",
       "text": [
        "[<Item u'item1' <Feed u'techcrunch' u'techcrunch'>>, <Item u'item2' <Feed u'techcrunch' u'techcrunch'>>]\n"
       ]
      }
     ],
     "prompt_number": 194
    },
    {
     "cell_type": "code",
     "collapsed": false,
     "input": [
      "## Method 2 (Recommended)\n",
      "Item.query.join(Item.feed).join(Feed.users).filter_by(email=\"foo\").all()"
     ],
     "language": "python",
     "metadata": {},
     "outputs": [
      {
       "metadata": {},
       "output_type": "pyout",
       "prompt_number": 11,
       "text": [
        "[<Item u'item1' <Feed u'techcrunch' u'techcrunch'>>,\n",
        " <Item u'item2' <Feed u'techcrunch' u'techcrunch'>>]"
       ]
      }
     ],
     "prompt_number": 11
    },
    {
     "cell_type": "markdown",
     "metadata": {},
     "source": [
      "---"
     ]
    },
    {
     "cell_type": "markdown",
     "metadata": {},
     "source": [
      "### Get list of items for a user\n",
      "> Excluding already read items"
     ]
    },
    {
     "cell_type": "code",
     "collapsed": false,
     "input": [
      "'''\n",
      "Method 1:\n",
      "    Take the items table, join it to feed and users and filter by that particular user.\n",
      "    Following this, remove the id's of the items already read\n",
      "'''\n",
      "Item.query.join(Item.feed).join(Feed.users).filter_by(email=\"foo\")\\\n",
      "    .filter(Item.id.notin_([item.id for item in User.query.filter_by(email=\"foo\").first().items_read])).all()"
     ],
     "language": "python",
     "metadata": {},
     "outputs": [
      {
       "metadata": {},
       "output_type": "pyout",
       "prompt_number": 54,
       "text": [
        "[<Item u'item2' <Feed u'techcrunch' u'techcrunch'>>]"
       ]
      }
     ],
     "prompt_number": 54
    },
    {
     "cell_type": "code",
     "collapsed": false,
     "input": [
      "'''\n",
      "Method 2: \n",
      "    Take the items table, remove the list of read items for that user.\n",
      "    Following this, join it to feeds and users and filter by thar particular user.\n",
      "    \n",
      "Understanding: Should be faster than Method 1 since there is far lesser to filter out.\n",
      "'''\n",
      "Item.query.filter(Item.id.notin_([item.id for item in User.query.filter_by(email=\"foo\").first().items_read]))\\\n",
      "    .join(Item.feed).join(Feed.users).filter_by(email=\"foo\").all()"
     ],
     "language": "python",
     "metadata": {},
     "outputs": [
      {
       "metadata": {},
       "output_type": "pyout",
       "prompt_number": 75,
       "text": [
        "[<Item u'item2' <Feed u'techcrunch' u'techcrunch'>>]"
       ]
      }
     ],
     "prompt_number": 75
    },
    {
     "cell_type": "code",
     "collapsed": false,
     "input": [
      "# Let us inspect the 2 statements\n",
      "\n",
      "## Method 1 statement \n",
      "print \"# Method 1: \"\n",
      "print Item.query.join(Item.feed).join(Feed.users).filter_by(email=\"foo\")\\\n",
      "    .filter(Item.id.notin_([item.id for item in User.query.filter_by(email=\"foo\").first().items_read])).statement\n",
      "\n",
      "print\n",
      "    \n",
      "## Method 2 statement\n",
      "print \"# Method 2: \"\n",
      "print Item.query.filter(Item.id.notin_([item.id for item in User.query.filter_by(email=\"foo\").first().items_read]))\\\n",
      "    .join(Item.feed).join(Feed.users).filter_by(email=\"foo\").statement\n"
     ],
     "language": "python",
     "metadata": {},
     "outputs": [
      {
       "output_type": "stream",
       "stream": "stdout",
       "text": [
        "# Method 1: \n",
        "SELECT item.id, item.feed_id, item.title, item.description, item.link, item.guid, item.guid_hash, item.pub_date \n",
        "FROM item JOIN feed ON feed.id = item.feed_id JOIN user_feeds AS user_feeds_1 ON feed.id = user_feeds_1.feed_id JOIN \"user\" ON \"user\".id = user_feeds_1.user_id \n",
        "WHERE \"user\".email = :email_1 AND item.id NOT IN (:id_1)\n",
        "\n",
        "# Method 2: \n",
        "SELECT item.id, item.feed_id, item.title, item.description, item.link, item.guid, item.guid_hash, item.pub_date \n",
        "FROM item JOIN feed ON feed.id = item.feed_id JOIN user_feeds AS user_feeds_1 ON feed.id = user_feeds_1.feed_id JOIN \"user\" ON \"user\".id = user_feeds_1.user_id \n",
        "WHERE item.id NOT IN (:id_1) AND \"user\".email = :email_1\n"
       ]
      }
     ],
     "prompt_number": 74
    },
    {
     "cell_type": "markdown",
     "metadata": {},
     "source": [
      "**Moral: It doesn't matter which order you call things in, SQLAlchemy does a level of optimization on top**"
     ]
    },
    {
     "cell_type": "code",
     "collapsed": false,
     "input": [
      "''' \n",
      "Method 3\n",
      "    Pick up the items that aren't read as a subquery. \n",
      "    Following this, pick up the user's feeds and join it to the subquery\n",
      "    \n",
      "    The reason for this is to reduce what is being joined. I remember @Nischal explaining to me how we need to keep our joins\n",
      "    to a minimum. Ergo this. I believe more optimizations can be done. But this is a good start\n",
      "'''\n",
      "\n",
      "####################\n",
      "# Work in progress #\n",
      "####################\n",
      "\n",
      "unread_items = Item.query.filter(Item.id.notin_([item.id for item in User.query.filter_by(email=\"foo\").first().items_read]))\\\n",
      "    .subquery()\n",
      "    \n",
      "x = db.aliased(Item, unread_items)\n",
      "\n",
      "print db.session.query(x).join(Item.feed).join(Feed.users).filter_by(email=\"foo\").statement\n",
      "    \n",
      "#User.query.filter_by(email=\"foo\").first().feeds.join(unread_items).statement\n"
     ],
     "language": "python",
     "metadata": {},
     "outputs": [
      {
       "output_type": "stream",
       "stream": "stdout",
       "text": [
        "SELECT anon_1.id, anon_1.feed_id, anon_1.title, anon_1.description, anon_1.link, anon_1.guid, anon_1.guid_hash, anon_1.pub_date \n",
        "FROM (SELECT item.id AS id, item.feed_id AS feed_id, item.title AS title, item.description AS description, item.link AS link, item.guid AS guid, item.guid_hash AS guid_hash, item.pub_date AS pub_date \n",
        "FROM item \n",
        "WHERE item.id NOT IN (:id_1)) AS anon_1, item JOIN feed ON feed.id = item.feed_id JOIN user_feeds AS user_feeds_1 ON feed.id = user_feeds_1.feed_id JOIN \"user\" ON \"user\".id = user_feeds_1.user_id \n",
        "WHERE \"user\".email = :email_1\n"
       ]
      }
     ],
     "prompt_number": 153
    },
    {
     "cell_type": "markdown",
     "metadata": {},
     "source": [
      "---"
     ]
    },
    {
     "cell_type": "markdown",
     "metadata": {},
     "source": [
      "### Add items to a user's read list"
     ]
    },
    {
     "cell_type": "code",
     "collapsed": false,
     "input": [
      "# Get the foo user \n",
      "foo = User.query.filter_by(email=\"foo\").first()\n",
      "baz = User.query.filter_by(email=\"baz\").first()\n",
      "\n",
      "# Get the item in question\n",
      "tc_i1 = Item.query.get(1)\n",
      "\n",
      "# Add the item to the user's read list\n",
      "foo.items_read.append(tc_i1)\n",
      "baz.items_read.append(tc_i1)\n",
      "\n",
      "# Commit it to db\n",
      "db.session.add(foo)\n",
      "db.session.add(baz)\n",
      "db.session.commit()"
     ],
     "language": "python",
     "metadata": {},
     "outputs": [],
     "prompt_number": 19
    },
    {
     "cell_type": "markdown",
     "metadata": {},
     "source": [
      "---"
     ]
    },
    {
     "cell_type": "markdown",
     "metadata": {},
     "source": [
      "## Get user's read items and Users who have read those items"
     ]
    },
    {
     "cell_type": "code",
     "collapsed": false,
     "input": [
      "# User who have read an item\n",
      "print Item.query.first().read_by.all()\n",
      "\n",
      "# User's read items\n",
      "print User.query.first().items_read"
     ],
     "language": "python",
     "metadata": {},
     "outputs": [
      {
       "output_type": "stream",
       "stream": "stdout",
       "text": [
        "[<User u'foo'>, <User u'baz'>]\n",
        "[<Item u'item1' <Feed u'techcrunch' u'techcrunch'>>]\n"
       ]
      }
     ],
     "prompt_number": 91
    },
    {
     "cell_type": "markdown",
     "metadata": {},
     "source": [
      "---"
     ]
    },
    {
     "cell_type": "markdown",
     "metadata": {},
     "source": [
      "## Utilities"
     ]
    },
    {
     "cell_type": "markdown",
     "metadata": {},
     "source": [
      "**Printing the statment associated with a `query`**"
     ]
    },
    {
     "cell_type": "code",
     "collapsed": false,
     "input": [
      "# The \"statement\" attribute lets you see the statement associated to that query\n",
      "print(User.query.filter_by(email=\"foo\").statement)"
     ],
     "language": "python",
     "metadata": {},
     "outputs": [
      {
       "output_type": "stream",
       "stream": "stdout",
       "text": [
        "SELECT \"user\".id, \"user\".email, \"user\".password \n",
        "FROM \"user\" \n",
        "WHERE \"user\".email = :email_1\n"
       ]
      }
     ],
     "prompt_number": 16
    }
   ],
   "metadata": {}
  }
 ]
}