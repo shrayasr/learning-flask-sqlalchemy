{
 "metadata": {
  "name": "",
  "signature": "sha256:dae12e69cca2f4c3f84679c282214cdb92d6482704da3b815024ed61a60de2f6"
 },
 "nbformat": 3,
 "nbformat_minor": 0,
 "worksheets": [
  {
   "cells": [
    {
     "cell_type": "code",
     "collapsed": false,
     "input": [
      "# Import shiz\n",
      "from rsswala import db, Feed, Item, User"
     ],
     "language": "python",
     "metadata": {},
     "outputs": [],
     "prompt_number": 183
    },
    {
     "cell_type": "code",
     "collapsed": false,
     "input": [
      "# Create the db\n",
      "db.create_all()"
     ],
     "language": "python",
     "metadata": {},
     "outputs": [],
     "prompt_number": 184
    },
    {
     "cell_type": "code",
     "collapsed": false,
     "input": [
      "# Create users\n",
      "foo = User(\"foo\",\"password\")\n",
      "bar = User(\"bar\",\"password\")"
     ],
     "language": "python",
     "metadata": {},
     "outputs": [],
     "prompt_number": 185
    },
    {
     "cell_type": "code",
     "collapsed": false,
     "input": [
      "# Create feeds\n",
      "tc = Feed(\"techcrunch\",\"techcrunch\",\"techcrunch\",\"techcrunch\",foo)\n",
      "br = Feed(\"Best recipes\",\"Best recipes\",\"Best recipes\",\"Best recipes\",bar)"
     ],
     "language": "python",
     "metadata": {},
     "outputs": [],
     "prompt_number": 186
    },
    {
     "cell_type": "code",
     "collapsed": false,
     "input": [
      "# Create items\n",
      "tc_i1 = Item(tc, \"item1\",\"\",\"\",\"tc_item1\",\"tc_item1\",\"2010-01-01\")\n",
      "tc_i2 = Item(tc, \"item2\",\"\",\"\",\"tc_item2\",\"tc_item2\",\"2010-01-01\")\n",
      "br_i1 = Item(br, \"item1\",\"\",\"\",\"br_item2\",\"br_item2\",\"2020-02-02\")"
     ],
     "language": "python",
     "metadata": {},
     "outputs": [],
     "prompt_number": 187
    },
    {
     "cell_type": "code",
     "collapsed": false,
     "input": [
      "# Add objets into DB\n",
      "db.session.add(foo)\n",
      "db.session.add(bar)\n",
      "db.session.add(tc)\n",
      "db.session.add(br)\n",
      "db.session.add(tc_i1)\n",
      "db.session.add(tc_i2)\n",
      "db.session.add(br_i1)"
     ],
     "language": "python",
     "metadata": {},
     "outputs": [],
     "prompt_number": 191
    },
    {
     "cell_type": "code",
     "collapsed": false,
     "input": [
      "# Commit session\n",
      "db.session.commit()"
     ],
     "language": "python",
     "metadata": {},
     "outputs": [],
     "prompt_number": 192
    },
    {
     "cell_type": "code",
     "collapsed": false,
     "input": [
      "# Rollback session\n",
      "db.session.rollback()"
     ],
     "language": "python",
     "metadata": {},
     "outputs": [],
     "prompt_number": 190
    },
    {
     "cell_type": "markdown",
     "metadata": {},
     "source": [
      "**Querying | Get list of items for a user** "
     ]
    },
    {
     "cell_type": "code",
     "collapsed": false,
     "input": [
      "## Method 1\n",
      "feeds_for_user = User.query.filter_by(email=\"foo\").first().feeds\n",
      "\n",
      "for feed in feeds_for_user:\n",
      "    print feed.items.all()"
     ],
     "language": "python",
     "metadata": {},
     "outputs": [
      {
       "output_type": "stream",
       "stream": "stdout",
       "text": [
        "[<Item u'item1' <Feed u'techcrunch' u'techcrunch'>>, <Item u'item2' <Feed u'techcrunch' u'techcrunch'>>]\n"
       ]
      }
     ],
     "prompt_number": 194
    },
    {
     "cell_type": "code",
     "collapsed": false,
     "input": [
      "## Method 2\n",
      "Item.query.join(Item.feed).join(Feed.users).filter_by(email=\"foo\").all()"
     ],
     "language": "python",
     "metadata": {},
     "outputs": [
      {
       "metadata": {},
       "output_type": "pyout",
       "prompt_number": 195,
       "text": [
        "[<Item u'item1' <Feed u'techcrunch' u'techcrunch'>>,\n",
        " <Item u'item2' <Feed u'techcrunch' u'techcrunch'>>]"
       ]
      }
     ],
     "prompt_number": 195
    },
    {
     "cell_type": "code",
     "collapsed": false,
     "input": [],
     "language": "python",
     "metadata": {},
     "outputs": []
    }
   ],
   "metadata": {}
  }
 ]
}