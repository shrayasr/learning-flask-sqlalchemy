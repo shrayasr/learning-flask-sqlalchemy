{
 "metadata": {
  "name": "",
  "signature": "sha256:6ff1938e1de6c242382bbfff85c800b0fd6e22b0446dc4d0c86ed5e09b4ef1cc"
 },
 "nbformat": 3,
 "nbformat_minor": 0,
 "worksheets": [
  {
   "cells": [
    {
     "cell_type": "code",
     "collapsed": false,
     "input": [
      "# Import shiz\n",
      "from rsswala import db, Feed, Item, User"
     ],
     "language": "python",
     "metadata": {},
     "outputs": [],
     "prompt_number": 38
    },
    {
     "cell_type": "code",
     "collapsed": false,
     "input": [
      "# Create the db\n",
      "db.create_all()"
     ],
     "language": "python",
     "metadata": {},
     "outputs": [],
     "prompt_number": 39
    },
    {
     "cell_type": "code",
     "collapsed": false,
     "input": [
      "# Create users\n",
      "shrayas = User(\"shrayas\",\"password\")\n",
      "meow = User(\"Meow\",\"password\")"
     ],
     "language": "python",
     "metadata": {},
     "outputs": [],
     "prompt_number": 52
    },
    {
     "cell_type": "code",
     "collapsed": false,
     "input": [
      "# Create feeds\n",
      "tc = Feed(\"techcrunch\",\"techcrunch\",\"techcrunch\",\"techcrunch\",shrayas)\n",
      "br = Feed(\"Best recipes\",\"\",\"\",\"\",meow)"
     ],
     "language": "python",
     "metadata": {},
     "outputs": [],
     "prompt_number": 53
    },
    {
     "cell_type": "code",
     "collapsed": false,
     "input": [
      "# Create items\n",
      "tc_i1 = Item(tc, \"item1\",\"\",\"\",\"tc_item1\",\"tc_item1\",\"2010-01-01\")\n",
      "br_i1 = Item(br, \"item1\",\"\",\"\",\"br_item2\",\"br_item2\",\"2020-02-02\")"
     ],
     "language": "python",
     "metadata": {},
     "outputs": [],
     "prompt_number": 54
    },
    {
     "cell_type": "code",
     "collapsed": false,
     "input": [
      "# Add objets into DB\n",
      "db.session.add(shrayas)\n",
      "db.session.add(meow)\n",
      "db.session.add(tc)\n",
      "db.session.add(br)\n",
      "db.session.add(tc_i1)\n",
      "db.session.add(br_i1)"
     ],
     "language": "python",
     "metadata": {},
     "outputs": [],
     "prompt_number": 55
    },
    {
     "cell_type": "code",
     "collapsed": false,
     "input": [
      "# Commit session\n",
      "db.session.commit()"
     ],
     "language": "python",
     "metadata": {},
     "outputs": [],
     "prompt_number": 56
    },
    {
     "cell_type": "code",
     "collapsed": false,
     "input": [
      "# Rollback session\n",
      "db.session.rollback()"
     ],
     "language": "python",
     "metadata": {},
     "outputs": [],
     "prompt_number": 51
    }
   ],
   "metadata": {}
  }
 ]
}