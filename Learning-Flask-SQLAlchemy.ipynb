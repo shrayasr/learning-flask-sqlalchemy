{
 "metadata": {
  "name": "",
  "signature": "sha256:4d59e602211e5b44cacb74f83d82830d008f7eea334bc3dd642cf098bdddf36f"
 },
 "nbformat": 3,
 "nbformat_minor": 0,
 "worksheets": [
  {
   "cells": [
    {
     "cell_type": "markdown",
     "metadata": {},
     "source": [
      "## Setup"
     ]
    },
    {
     "cell_type": "code",
     "collapsed": false,
     "input": [
      "# Import shiz\n",
      "from rsswala import db, Feed, Item, User"
     ],
     "language": "python",
     "metadata": {},
     "outputs": [],
     "prompt_number": 1
    },
    {
     "cell_type": "code",
     "collapsed": false,
     "input": [
      "# Create the db\n",
      "db.create_all()"
     ],
     "language": "python",
     "metadata": {},
     "outputs": [],
     "prompt_number": 2
    },
    {
     "cell_type": "code",
     "collapsed": false,
     "input": [
      "# Create users\n",
      "foo = User(\"foo\",\"password\")\n",
      "bar = User(\"bar\",\"password\")\n",
      "baz = User(\"baz\",\"password\")"
     ],
     "language": "python",
     "metadata": {},
     "outputs": [],
     "prompt_number": 3
    },
    {
     "cell_type": "code",
     "collapsed": false,
     "input": [
      "# Create feeds\n",
      "tc = Feed(\"techcrunch\",\"techcrunch\",\"techcrunch\",\"techcrunch\",foo)\n",
      "br = Feed(\"Best recipes\",\"Best recipes\",\"Best recipes\",\"Best recipes\",bar)"
     ],
     "language": "python",
     "metadata": {},
     "outputs": [],
     "prompt_number": 4
    },
    {
     "cell_type": "code",
     "collapsed": false,
     "input": [
      "# Associate feed to user\n",
      "tc.users.append(baz)"
     ],
     "language": "python",
     "metadata": {},
     "outputs": [],
     "prompt_number": 79
    },
    {
     "cell_type": "code",
     "collapsed": false,
     "input": [
      "# Create items\n",
      "tc_i1 = Item(tc, \"item1\",\"\",\"\",\"tc_item1\",\"tc_item1\",\"2010-01-01\")\n",
      "tc_i2 = Item(tc, \"item2\",\"\",\"\",\"tc_item2\",\"tc_item2\",\"2010-01-01\")\n",
      "br_i1 = Item(br, \"item1\",\"\",\"\",\"br_item2\",\"br_item2\",\"2020-02-02\")"
     ],
     "language": "python",
     "metadata": {},
     "outputs": [],
     "prompt_number": 5
    },
    {
     "cell_type": "code",
     "collapsed": false,
     "input": [
      "# Add objects into DB\n",
      "\n",
      "## Users\n",
      "db.session.add(foo)\n",
      "db.session.add(bar)\n",
      "db.session.add(baz)\n",
      "\n",
      "## Feeds\n",
      "db.session.add(tc)\n",
      "db.session.add(br)\n",
      "\n",
      "## Items\n",
      "db.session.add(tc_i1)\n",
      "db.session.add(tc_i2)\n",
      "db.session.add(br_i1)"
     ],
     "language": "python",
     "metadata": {},
     "outputs": [],
     "prompt_number": 6
    },
    {
     "cell_type": "code",
     "collapsed": false,
     "input": [
      "# Commit session\n",
      "db.session.commit()"
     ],
     "language": "python",
     "metadata": {},
     "outputs": [],
     "prompt_number": 81
    },
    {
     "cell_type": "code",
     "collapsed": false,
     "input": [
      "# Rollback session\n",
      "db.session.rollback()"
     ],
     "language": "python",
     "metadata": {},
     "outputs": [],
     "prompt_number": 237
    },
    {
     "cell_type": "markdown",
     "metadata": {},
     "source": [
      "---"
     ]
    },
    {
     "cell_type": "markdown",
     "metadata": {},
     "source": [
      "## Querying"
     ]
    },
    {
     "cell_type": "markdown",
     "metadata": {},
     "source": [
      "### Get list of all items for a user\n",
      "> Includes already read items too"
     ]
    },
    {
     "cell_type": "code",
     "collapsed": false,
     "input": [
      "## Method 1\n",
      "feeds_for_user = User.query.filter_by(email=\"foo\").first().feeds\n",
      "\n",
      "for feed in feeds_for_user:\n",
      "    print feed.items.all()"
     ],
     "language": "python",
     "metadata": {},
     "outputs": [
      {
       "output_type": "stream",
       "stream": "stdout",
       "text": [
        "SELECT \"user\".id, \"user\".email, \"user\".password \n",
        "FROM \"user\" \n",
        "WHERE \"user\".email = :email_1\n",
        "[<Item u'item1' <Feed u'techcrunch' u'techcrunch'>>, <Item u'item2' <Feed u'techcrunch' u'techcrunch'>>]\n"
       ]
      }
     ],
     "prompt_number": 218
    },
    {
     "cell_type": "code",
     "collapsed": false,
     "input": [
      "## Method 2 (Recommended)\n",
      "Item.query.join(Item.feed).join(Feed.users).filter_by(email=\"foo\").all()"
     ],
     "language": "python",
     "metadata": {},
     "outputs": [
      {
       "metadata": {},
       "output_type": "pyout",
       "prompt_number": 11,
       "text": [
        "[<Item u'item1' <Feed u'techcrunch' u'techcrunch'>>,\n",
        " <Item u'item2' <Feed u'techcrunch' u'techcrunch'>>]"
       ]
      }
     ],
     "prompt_number": 11
    },
    {
     "cell_type": "markdown",
     "metadata": {},
     "source": [
      "---"
     ]
    },
    {
     "cell_type": "markdown",
     "metadata": {},
     "source": [
      "### Get list of items for a user\n",
      "> Excluding already read items"
     ]
    },
    {
     "cell_type": "code",
     "collapsed": false,
     "input": [
      "'''\n",
      "Method 1:\n",
      "    Take the items table, join it to feed and users and filter by that particular user.\n",
      "    Following this, remove the id's of the items already read\n",
      "'''\n",
      "Item.query.join(Item.feed).join(Feed.users).filter_by(email=\"foo\")\\\n",
      "    .filter(Item.id.notin_([item.id for item in User.query.filter_by(email=\"foo\").first().items_read])).all()"
     ],
     "language": "python",
     "metadata": {},
     "outputs": [
      {
       "metadata": {},
       "output_type": "pyout",
       "prompt_number": 54,
       "text": [
        "[<Item u'item2' <Feed u'techcrunch' u'techcrunch'>>]"
       ]
      }
     ],
     "prompt_number": 54
    },
    {
     "cell_type": "code",
     "collapsed": false,
     "input": [
      "'''\n",
      "Method 2: \n",
      "    Take the items table, remove the list of read items for that user.\n",
      "    Following this, join it to feeds and users and filter by thar particular user.\n",
      "    \n",
      "Understanding: Should be faster than Method 1 since there is far lesser to filter out.\n",
      "'''\n",
      "Item.query.filter(Item.id.notin_([item.id for item in User.query.filter_by(email=\"foo\").first().items_read]))\\\n",
      "    .join(Item.feed).join(Feed.users).filter_by(email=\"foo\").all()"
     ],
     "language": "python",
     "metadata": {},
     "outputs": [
      {
       "metadata": {},
       "output_type": "pyout",
       "prompt_number": 75,
       "text": [
        "[<Item u'item2' <Feed u'techcrunch' u'techcrunch'>>]"
       ]
      }
     ],
     "prompt_number": 75
    },
    {
     "cell_type": "code",
     "collapsed": false,
     "input": [
      "# Let us inspect the 2 statements\n",
      "\n",
      "## Method 1 statement \n",
      "print \"# Method 1: \"\n",
      "print Item.query.join(Item.feed).join(Feed.users).filter_by(email=\"foo\")\\\n",
      "    .filter(Item.id.notin_([item.id for item in User.query.filter_by(email=\"foo\").first().items_read])).statement\n",
      "\n",
      "print\n",
      "    \n",
      "## Method 2 statement\n",
      "print \"# Method 2: \"\n",
      "print Item.query.filter(Item.id.notin_([item.id for item in User.query.filter_by(email=\"foo\").first().items_read]))\\\n",
      "    .join(Item.feed).join(Feed.users).filter_by(email=\"foo\").statement\n"
     ],
     "language": "python",
     "metadata": {},
     "outputs": [
      {
       "output_type": "stream",
       "stream": "stdout",
       "text": [
        "# Method 1: \n",
        "SELECT item.id, item.feed_id, item.title, item.description, item.link, item.guid, item.guid_hash, item.pub_date \n",
        "FROM item JOIN feed ON feed.id = item.feed_id JOIN user_feeds AS user_feeds_1 ON feed.id = user_feeds_1.feed_id JOIN \"user\" ON \"user\".id = user_feeds_1.user_id \n",
        "WHERE \"user\".email = :email_1 AND item.id NOT IN (:id_1)\n",
        "\n",
        "# Method 2: \n",
        "SELECT item.id, item.feed_id, item.title, item.description, item.link, item.guid, item.guid_hash, item.pub_date \n",
        "FROM item JOIN feed ON feed.id = item.feed_id JOIN user_feeds AS user_feeds_1 ON feed.id = user_feeds_1.feed_id JOIN \"user\" ON \"user\".id = user_feeds_1.user_id \n",
        "WHERE item.id NOT IN (:id_1) AND \"user\".email = :email_1\n"
       ]
      }
     ],
     "prompt_number": 74
    },
    {
     "cell_type": "markdown",
     "metadata": {},
     "source": [
      "**Moral: It doesn't matter which order you call things in, SQLAlchemy does a level of optimization on top**"
     ]
    },
    {
     "cell_type": "code",
     "collapsed": false,
     "input": [
      "'''\n",
      "    Method 3:\n",
      "        Construct the read items as a query and use that within a notin_ clause for the remaining join.\n",
      "        Funnily enough if i use `subquery()` or don't use it, it seems to behave in the same way (look at sql)\n",
      "'''\n",
      "read_items_for_baz = db.session.query(Item.id).join(Item.read_by).filter_by(email=\"baz\")\n",
      "read_items_for_baz_sq = db.session.query(Item.id).join(Item.read_by).filter_by(email=\"baz\").subquery()\n",
      "\n",
      "print db.session.query(Item).join(Item.feed).join(Feed.users).filter_by(email=\"baz\").\\\n",
      "    filter(Item.id.notin_(read_items_for_baz)).all()\n",
      "    \n",
      "print\n",
      "    \n",
      "print db.session.query(Item).join(Item.feed).join(Feed.users).filter_by(email=\"baz\").\\\n",
      "    filter(Item.id.notin_(read_items_for_baz_sq)).all()\n",
      "\n",
      "print\n",
      "    \n",
      "print \"## No subquery:\"\n",
      "print db.session.query(Item).join(Item.feed).join(Feed.users).filter_by(email=\"baz\").\\\n",
      "    filter(Item.id.notin_(read_items_for_baz))\n",
      "print\n",
      "print \"## With Subquery:\"\n",
      "print db.session.query(Item).join(Item.feed).join(Feed.users).filter_by(email=\"baz\").\\\n",
      "    filter(Item.id.notin_(read_items_for_baz_sq))"
     ],
     "language": "python",
     "metadata": {},
     "outputs": [
      {
       "output_type": "stream",
       "stream": "stdout",
       "text": [
        "[<Item u'item2' <Feed u'techcrunch' u'techcrunch'>>]\n",
        "\n",
        "[<Item u'item2' <Feed u'techcrunch' u'techcrunch'>>]\n",
        "\n",
        "## No subquery:\n",
        "SELECT item.id AS item_id, item.feed_id AS item_feed_id, item.title AS item_title, item.description AS item_description, item.link AS item_link, item.guid AS item_guid, item.guid_hash AS item_guid_hash, item.pub_date AS item_pub_date \n",
        "FROM item JOIN feed ON feed.id = item.feed_id JOIN user_feeds AS user_feeds_1 ON feed.id = user_feeds_1.feed_id JOIN \"user\" ON \"user\".id = user_feeds_1.user_id \n",
        "WHERE \"user\".email = :email_1 AND item.id NOT IN (SELECT item.id AS item_id \n",
        "FROM item JOIN user_read_items AS user_read_items_1 ON item.id = user_read_items_1.item_id JOIN \"user\" ON \"user\".id = user_read_items_1.user_id \n",
        "WHERE \"user\".email = :email_2)\n",
        "\n",
        "## With Subquery:\n",
        "SELECT item.id AS item_id, item.feed_id AS item_feed_id, item.title AS item_title, item.description AS item_description, item.link AS item_link, item.guid AS item_guid, item.guid_hash AS item_guid_hash, item.pub_date AS item_pub_date \n",
        "FROM item JOIN feed ON feed.id = item.feed_id JOIN user_feeds AS user_feeds_1 ON feed.id = user_feeds_1.feed_id JOIN \"user\" ON \"user\".id = user_feeds_1.user_id \n",
        "WHERE \"user\".email = :email_1 AND item.id NOT IN (SELECT item.id \n",
        "FROM item JOIN user_read_items AS user_read_items_1 ON item.id = user_read_items_1.item_id JOIN \"user\" ON \"user\".id = user_read_items_1.user_id \n",
        "WHERE \"user\".email = :email_2)\n"
       ]
      }
     ],
     "prompt_number": 385
    },
    {
     "cell_type": "markdown",
     "metadata": {},
     "source": [
      "---"
     ]
    },
    {
     "cell_type": "markdown",
     "metadata": {},
     "source": [
      "### Add items to a user's read list"
     ]
    },
    {
     "cell_type": "code",
     "collapsed": false,
     "input": [
      "# Get the foo user \n",
      "foo = User.query.filter_by(email=\"foo\").first()\n",
      "baz = User.query.filter_by(email=\"baz\").first()\n",
      "\n",
      "# Get the item in question\n",
      "tc_i1 = Item.query.get(1)\n",
      "\n",
      "# Add the item to the user's read list\n",
      "foo.items_read.append(tc_i1)\n",
      "baz.items_read.append(tc_i1)\n",
      "\n",
      "# Commit it to db\n",
      "db.session.add(foo)\n",
      "db.session.add(baz)\n",
      "db.session.commit()"
     ],
     "language": "python",
     "metadata": {},
     "outputs": [],
     "prompt_number": 19
    },
    {
     "cell_type": "markdown",
     "metadata": {},
     "source": [
      "---"
     ]
    },
    {
     "cell_type": "markdown",
     "metadata": {},
     "source": [
      "## Get user's read items and Users who have read those items"
     ]
    },
    {
     "cell_type": "code",
     "collapsed": false,
     "input": [
      "# User who have read an item\n",
      "print Item.query.first().read_by.all()\n",
      "\n",
      "# User's read items\n",
      "print User.query.first().items_read"
     ],
     "language": "python",
     "metadata": {},
     "outputs": [
      {
       "output_type": "stream",
       "stream": "stdout",
       "text": [
        "[<User u'foo'>, <User u'baz'>]\n",
        "[<Item u'item1' <Feed u'techcrunch' u'techcrunch'>>]\n"
       ]
      }
     ],
     "prompt_number": 91
    },
    {
     "cell_type": "markdown",
     "metadata": {},
     "source": [
      "---"
     ]
    },
    {
     "cell_type": "markdown",
     "metadata": {},
     "source": [
      "## Learnings\n",
      "> a la **official** [SQLAlchemy Object Relational Tutorial](http://docs.sqlalchemy.org/en/rel_0_9/orm/tutorial.html)"
     ]
    },
    {
     "cell_type": "code",
     "collapsed": false,
     "input": [
      "# Querying returns named tuples\n",
      "for x in db.session.query(User.id, User.email):\n",
      "    print x"
     ],
     "language": "python",
     "metadata": {},
     "outputs": [
      {
       "output_type": "stream",
       "stream": "stdout",
       "text": [
        "(1, u'foo')\n",
        "(2, u'bar')\n",
        "(3, u'baz')\n"
       ]
      }
     ],
     "prompt_number": 170
    },
    {
     "cell_type": "code",
     "collapsed": false,
     "input": [
      "# Statement for query\n",
      "print db.session.query(User.id, User.email)"
     ],
     "language": "python",
     "metadata": {},
     "outputs": [
      {
       "output_type": "stream",
       "stream": "stdout",
       "text": [
        "SELECT \"user\".id AS user_id, \"user\".email AS user_email \n",
        "FROM \"user\"\n"
       ]
      }
     ],
     "prompt_number": 168
    },
    {
     "cell_type": "code",
     "collapsed": false,
     "input": [
      "# Column Aliases\n",
      "for row in db.session.query(User.email.label('username')):\n",
      "    print row.username"
     ],
     "language": "python",
     "metadata": {},
     "outputs": [
      {
       "output_type": "stream",
       "stream": "stdout",
       "text": [
        "foo\n",
        "bar\n",
        "baz\n"
       ]
      }
     ],
     "prompt_number": 164
    },
    {
     "cell_type": "code",
     "collapsed": false,
     "input": [
      "# Aliases\n",
      "aadmi = db.aliased(User, name=\"aadmi\")\n",
      "\n",
      "for row in db.session.query(aadmi):\n",
      "    print row"
     ],
     "language": "python",
     "metadata": {},
     "outputs": [
      {
       "output_type": "stream",
       "stream": "stdout",
       "text": [
        "<User u'foo'>\n",
        "<User u'bar'>\n",
        "<User u'baz'>\n"
       ]
      }
     ],
     "prompt_number": 174
    },
    {
     "cell_type": "code",
     "collapsed": false,
     "input": [
      "# Limit and Offset\n",
      "all_users = db.session.query(User)\n",
      "\n",
      "for row in all_users[:-1]:\n",
      "    print row\n",
      "    \n",
      "for row in all_users[1:2]:\n",
      "    print row"
     ],
     "language": "python",
     "metadata": {},
     "outputs": [
      {
       "output_type": "stream",
       "stream": "stdout",
       "text": [
        "<User u'foo'>\n",
        "<User u'bar'>\n",
        "<User u'bar'>\n"
       ]
      }
     ],
     "prompt_number": 194
    },
    {
     "cell_type": "code",
     "collapsed": false,
     "input": [
      "# Order by asc\n",
      "print \"#asc\"\n",
      "for email in db.session.query(User.email).order_by(User.email):\n",
      "    print email\n",
      "    \n",
      "print\n",
      "    \n",
      "# Order by desc\n",
      "print \"#desc\"\n",
      "for email in db.session.query(User.email).order_by(User.email.desc()):\n",
      "    print email"
     ],
     "language": "python",
     "metadata": {},
     "outputs": [
      {
       "output_type": "stream",
       "stream": "stdout",
       "text": [
        "#asc\n",
        "(u'bar',)\n",
        "(u'baz',)\n",
        "(u'foo',)\n",
        "\n",
        "#desc\n",
        "(u'foo',)\n",
        "(u'baz',)\n",
        "(u'bar',)\n"
       ]
      }
     ],
     "prompt_number": 203
    },
    {
     "cell_type": "code",
     "collapsed": false,
     "input": [
      "# Using AND and OR\n",
      "\n",
      "#######\n",
      "# AND #\n",
      "#######\n",
      "\n",
      "## Method 1\n",
      "for row in db.session.query(User).filter_by(email=\"foo\").filter_by(password=\"password\"):\n",
      "    print row\n",
      "\n",
      "# Method 2\n",
      "for row in db.session.query(User).filter(User.email==\"foo\", User.password==\"password\"):\n",
      "    print row\n",
      "    \n",
      "# Method 3\n",
      "for row in db.session.query(User).filter(db.and_(User.email==\"foo\", User.password==\"password\")):\n",
      "    print row\n",
      "    \n",
      "######\n",
      "# OR #\n",
      "######\n",
      "\n",
      "# Method 1\n",
      "for row in db.session.query(User).filter(db.or_(User.email==\"foo\", User.password==\"password\")):\n",
      "    print row"
     ],
     "language": "python",
     "metadata": {},
     "outputs": [
      {
       "output_type": "stream",
       "stream": "stdout",
       "text": [
        "<User u'foo'>\n",
        "<User u'foo'>\n",
        "<User u'foo'>\n",
        "<User u'foo'>\n",
        "<User u'bar'>\n",
        "<User u'baz'>\n"
       ]
      }
     ],
     "prompt_number": 217
    },
    {
     "cell_type": "code",
     "collapsed": false,
     "input": [
      "# Literal SQL (Unsure if this is a good idea, don't see a use case for it yet)\n",
      "for user in db.session.query(User).filter(db.text(\"password='password'\")).order_by(db.text(\"email asc\")).all():\n",
      "    print user\n",
      "\n",
      "print    \n",
      "    \n",
      "for user in db.session.query(User).filter(db.text(\"password=:passw\")).params(passw=\"password\").all():\n",
      "    print user\n",
      "    \n",
      "\"\"\"\n",
      "    Below statement uses literal sql with the \"from_statement\" function.     \n",
      "    Not working. Dunno why\n",
      "\n",
      "    >>> db.session.query(\"email\", \"password\").from_statement(db.text(\"SELECT email, password FROM user\")).all()\n",
      "\"\"\"\n",
      "\n",
      "print"
     ],
     "language": "python",
     "metadata": {},
     "outputs": [
      {
       "output_type": "stream",
       "stream": "stdout",
       "text": [
        "<User u'bar'>\n",
        "<User u'baz'>\n",
        "<User u'foo'>\n",
        "\n",
        "<User u'foo'>\n",
        "<User u'bar'>\n",
        "<User u'baz'>\n",
        "\n"
       ]
      }
     ],
     "prompt_number": 271
    },
    {
     "cell_type": "code",
     "collapsed": false,
     "input": [
      "# Using count\n",
      "\n",
      "## Plain count\n",
      "print db.session.query(User).filter(User.password==\"password\").count()"
     ],
     "language": "python",
     "metadata": {},
     "outputs": []
    },
    {
     "cell_type": "code",
     "collapsed": false,
     "input": [
      "## Complex-er count\n",
      "db.session.query(Feed.title, db.func.count(Item.id)).join(Item).group_by(Feed).all()"
     ],
     "language": "python",
     "metadata": {},
     "outputs": [
      {
       "metadata": {},
       "output_type": "pyout",
       "prompt_number": 316,
       "text": [
        "[(u'techcrunch', 2L), (u'Best recipes', 1L)]"
       ]
      }
     ],
     "prompt_number": 316
    },
    {
     "cell_type": "code",
     "collapsed": false,
     "input": [
      "# JOINS\n",
      "\n",
      "## Basic join\n",
      "print db.session.query(Feed, Item).\\\n",
      "    filter(Feed.id == Item.feed_id)\n",
      "    \n",
      "print    \n",
      "    \n",
      "## SQL join\n",
      "print db.session.query(Feed,Item).join(Item)\n",
      "\n",
      "print"
     ],
     "language": "python",
     "metadata": {},
     "outputs": [
      {
       "output_type": "stream",
       "stream": "stdout",
       "text": [
        "SELECT feed.id AS feed_id, feed.feed_url AS feed_feed_url, feed.title AS feed_title, feed.description AS feed_description, feed.link AS feed_link, item.id AS item_id, item.feed_id AS item_feed_id, item.title AS item_title, item.description AS item_description, item.link AS item_link, item.guid AS item_guid, item.guid_hash AS item_guid_hash, item.pub_date AS item_pub_date \n",
        "FROM feed, item \n",
        "WHERE feed.id = item.feed_id\n",
        "\n",
        "SELECT feed.id AS feed_id, feed.feed_url AS feed_feed_url, feed.title AS feed_title, feed.description AS feed_description, feed.link AS feed_link, item.id AS item_id, item.feed_id AS item_feed_id, item.title AS item_title, item.description AS item_description, item.link AS item_link, item.guid AS item_guid, item.guid_hash AS item_guid_hash, item.pub_date AS item_pub_date \n",
        "FROM feed JOIN item ON feed.id = item.feed_id\n",
        "\n"
       ]
      }
     ],
     "prompt_number": 327
    },
    {
     "cell_type": "markdown",
     "metadata": {},
     "source": [
      "---"
     ]
    },
    {
     "cell_type": "markdown",
     "metadata": {},
     "source": [
      "## Utilities"
     ]
    },
    {
     "cell_type": "markdown",
     "metadata": {},
     "source": [
      "**Printing the statment associated with a `query`**"
     ]
    },
    {
     "cell_type": "code",
     "collapsed": false,
     "input": [
      "# The \"statement\" attribute lets you see the statement associated to that query\n",
      "print(User.query.filter_by(email=\"foo\").statement)"
     ],
     "language": "python",
     "metadata": {},
     "outputs": [
      {
       "output_type": "stream",
       "stream": "stdout",
       "text": [
        "SELECT \"user\".id, \"user\".email, \"user\".password \n",
        "FROM \"user\" \n",
        "WHERE \"user\".email = :email_1\n"
       ]
      }
     ],
     "prompt_number": 16
    }
   ],
   "metadata": {}
  }
 ]
}