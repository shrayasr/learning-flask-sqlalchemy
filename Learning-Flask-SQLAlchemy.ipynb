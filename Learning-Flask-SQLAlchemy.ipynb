{
 "metadata": {
  "name": "",
  "signature": "sha256:3958060970006978c6ee509b34aee8df11d839bcf60c5dc94fa8f6208674292a"
 },
 "nbformat": 3,
 "nbformat_minor": 0,
 "worksheets": [
  {
   "cells": [
    {
     "cell_type": "markdown",
     "metadata": {},
     "source": [
      "## Setup"
     ]
    },
    {
     "cell_type": "code",
     "collapsed": false,
     "input": [
      "# Import shiz\n",
      "from rsswala import db, Feed, Item, User"
     ],
     "language": "python",
     "metadata": {},
     "outputs": [],
     "prompt_number": 1
    },
    {
     "cell_type": "code",
     "collapsed": false,
     "input": [
      "# Create the db\n",
      "db.create_all()"
     ],
     "language": "python",
     "metadata": {},
     "outputs": [],
     "prompt_number": 2
    },
    {
     "cell_type": "code",
     "collapsed": false,
     "input": [
      "# Create users\n",
      "foo = User(\"foo\",\"password\")\n",
      "bar = User(\"bar\",\"password\")"
     ],
     "language": "python",
     "metadata": {},
     "outputs": [],
     "prompt_number": 3
    },
    {
     "cell_type": "code",
     "collapsed": false,
     "input": [
      "# Create feeds\n",
      "tc = Feed(\"techcrunch\",\"techcrunch\",\"techcrunch\",\"techcrunch\",foo)\n",
      "br = Feed(\"Best recipes\",\"Best recipes\",\"Best recipes\",\"Best recipes\",bar)"
     ],
     "language": "python",
     "metadata": {},
     "outputs": [],
     "prompt_number": 4
    },
    {
     "cell_type": "code",
     "collapsed": false,
     "input": [
      "# Create items\n",
      "tc_i1 = Item(tc, \"item1\",\"\",\"\",\"tc_item1\",\"tc_item1\",\"2010-01-01\")\n",
      "tc_i2 = Item(tc, \"item2\",\"\",\"\",\"tc_item2\",\"tc_item2\",\"2010-01-01\")\n",
      "br_i1 = Item(br, \"item1\",\"\",\"\",\"br_item2\",\"br_item2\",\"2020-02-02\")"
     ],
     "language": "python",
     "metadata": {},
     "outputs": [],
     "prompt_number": 5
    },
    {
     "cell_type": "code",
     "collapsed": false,
     "input": [
      "# Add objets into DB\n",
      "db.session.add(foo)\n",
      "db.session.add(bar)\n",
      "db.session.add(tc)\n",
      "db.session.add(br)\n",
      "db.session.add(tc_i1)\n",
      "db.session.add(tc_i2)\n",
      "db.session.add(br_i1)"
     ],
     "language": "python",
     "metadata": {},
     "outputs": [],
     "prompt_number": 6
    },
    {
     "cell_type": "code",
     "collapsed": false,
     "input": [
      "# Commit session\n",
      "db.session.commit()"
     ],
     "language": "python",
     "metadata": {},
     "outputs": [],
     "prompt_number": 7
    },
    {
     "cell_type": "code",
     "collapsed": false,
     "input": [
      "# Rollback session\n",
      "db.session.rollback()"
     ],
     "language": "python",
     "metadata": {},
     "outputs": [],
     "prompt_number": 21
    },
    {
     "cell_type": "markdown",
     "metadata": {},
     "source": [
      "---"
     ]
    },
    {
     "cell_type": "markdown",
     "metadata": {},
     "source": [
      "## Querying"
     ]
    },
    {
     "cell_type": "markdown",
     "metadata": {},
     "source": [
      "### Get list of all items for a user\n",
      "> Includes already read items too"
     ]
    },
    {
     "cell_type": "code",
     "collapsed": false,
     "input": [
      "## Method 1\n",
      "feeds_for_user = User.query.filter_by(email=\"foo\").first().feeds\n",
      "\n",
      "for feed in feeds_for_user:\n",
      "    print feed.items.all()"
     ],
     "language": "python",
     "metadata": {},
     "outputs": [
      {
       "output_type": "stream",
       "stream": "stdout",
       "text": [
        "[<Item u'item1' <Feed u'techcrunch' u'techcrunch'>>, <Item u'item2' <Feed u'techcrunch' u'techcrunch'>>]\n"
       ]
      }
     ],
     "prompt_number": 194
    },
    {
     "cell_type": "code",
     "collapsed": false,
     "input": [
      "## Method 2\n",
      "Item.query.join(Item.feed).join(Feed.users).filter_by(email=\"foo\").all()"
     ],
     "language": "python",
     "metadata": {},
     "outputs": [
      {
       "metadata": {},
       "output_type": "pyout",
       "prompt_number": 11,
       "text": [
        "[<Item u'item1' <Feed u'techcrunch' u'techcrunch'>>,\n",
        " <Item u'item2' <Feed u'techcrunch' u'techcrunch'>>]"
       ]
      }
     ],
     "prompt_number": 11
    },
    {
     "cell_type": "markdown",
     "metadata": {},
     "source": [
      "---"
     ]
    },
    {
     "cell_type": "markdown",
     "metadata": {},
     "source": [
      "### Get list of items for a user\n",
      "> Excluding already read items"
     ]
    },
    {
     "cell_type": "code",
     "collapsed": false,
     "input": [
      "'''\n",
      "Method 1:\n",
      "    Take the items table, join it to feed and users and filter by that particular user.\n",
      "    Following this, remove the id's of the items already read\n",
      "'''\n",
      "Item.query.join(Item.feed).join(Feed.users).filter_by(email=\"foo\")\\\n",
      "    .filter(Item.id.notin_([item.id for item in User.query.filter_by(email=\"foo\").first().items_read])).all()"
     ],
     "language": "python",
     "metadata": {},
     "outputs": [
      {
       "metadata": {},
       "output_type": "pyout",
       "prompt_number": 54,
       "text": [
        "[<Item u'item2' <Feed u'techcrunch' u'techcrunch'>>]"
       ]
      }
     ],
     "prompt_number": 54
    },
    {
     "cell_type": "code",
     "collapsed": false,
     "input": [
      "'''\n",
      "Method 2: \n",
      "    Take the items table, remove the list of read items for that user.\n",
      "    Following this, join it to feeds and users and filter by thar particular user.\n",
      "    \n",
      "Understanding: Should be faster than Method 1 since there is far lesser to filter out.\n",
      "'''\n",
      "Item.query.filter(Item.id.notin_([item.id for item in User.query.filter_by(email=\"foo\").first().items_read]))\\\n",
      "    .join(Item.feed).join(Feed.users).filter_by(email=\"foo\").all()"
     ],
     "language": "python",
     "metadata": {},
     "outputs": [
      {
       "metadata": {},
       "output_type": "pyout",
       "prompt_number": 75,
       "text": [
        "[<Item u'item2' <Feed u'techcrunch' u'techcrunch'>>]"
       ]
      }
     ],
     "prompt_number": 75
    },
    {
     "cell_type": "code",
     "collapsed": false,
     "input": [
      "# Let us inspect the 2 statements\n",
      "\n",
      "## Method 1 statement \n",
      "print \"# Method 1: \"\n",
      "print Item.query.join(Item.feed).join(Feed.users).filter_by(email=\"foo\")\\\n",
      "    .filter(Item.id.notin_([item.id for item in User.query.filter_by(email=\"foo\").first().items_read])).statement\n",
      "\n",
      "print\n",
      "    \n",
      "## Method 2 statement\n",
      "print \"# Method 2: \"\n",
      "print Item.query.filter(Item.id.notin_([item.id for item in User.query.filter_by(email=\"foo\").first().items_read]))\\\n",
      "    .join(Item.feed).join(Feed.users).filter_by(email=\"foo\").statement\n"
     ],
     "language": "python",
     "metadata": {},
     "outputs": [
      {
       "output_type": "stream",
       "stream": "stdout",
       "text": [
        "# Method 1: \n",
        "SELECT item.id, item.feed_id, item.title, item.description, item.link, item.guid, item.guid_hash, item.pub_date \n",
        "FROM item JOIN feed ON feed.id = item.feed_id JOIN user_feeds AS user_feeds_1 ON feed.id = user_feeds_1.feed_id JOIN \"user\" ON \"user\".id = user_feeds_1.user_id \n",
        "WHERE \"user\".email = :email_1 AND item.id NOT IN (:id_1)\n",
        "\n",
        "# Method 2: \n",
        "SELECT item.id, item.feed_id, item.title, item.description, item.link, item.guid, item.guid_hash, item.pub_date \n",
        "FROM item JOIN feed ON feed.id = item.feed_id JOIN user_feeds AS user_feeds_1 ON feed.id = user_feeds_1.feed_id JOIN \"user\" ON \"user\".id = user_feeds_1.user_id \n",
        "WHERE item.id NOT IN (:id_1) AND \"user\".email = :email_1\n"
       ]
      }
     ],
     "prompt_number": 74
    },
    {
     "cell_type": "markdown",
     "metadata": {},
     "source": [
      "**##Moral: It doesn't matter what optimization you're doing. SQLAlchemy does a level of optimization on top**"
     ]
    },
    {
     "cell_type": "markdown",
     "metadata": {},
     "source": [
      "---"
     ]
    },
    {
     "cell_type": "markdown",
     "metadata": {},
     "source": [
      "### Add items to a user's read list"
     ]
    },
    {
     "cell_type": "code",
     "collapsed": false,
     "input": [
      "# Get the foo user \n",
      "foo = User.query.filter_by(email=\"foo\").first()\n",
      "\n",
      "# Get the item in question\n",
      "tc_i1 = Item.query.get(1)\n",
      "\n",
      "# Add the item to the user's read list\n",
      "foo.items_read.append(tc_i1)\n",
      "\n",
      "# Commit it to db\n",
      "db.session.add(foo)\n",
      "db.session.commit()"
     ],
     "language": "python",
     "metadata": {},
     "outputs": [],
     "prompt_number": 19
    },
    {
     "cell_type": "markdown",
     "metadata": {},
     "source": [
      "---"
     ]
    },
    {
     "cell_type": "markdown",
     "metadata": {},
     "source": [
      "## Utilities"
     ]
    },
    {
     "cell_type": "markdown",
     "metadata": {},
     "source": [
      "**Printing the statment associated with a `query`**"
     ]
    },
    {
     "cell_type": "code",
     "collapsed": false,
     "input": [
      "# The \"statement\" attribute lets you see the statement associated to that query\n",
      "print(User.query.filter_by(email=\"foo\").statement)"
     ],
     "language": "python",
     "metadata": {},
     "outputs": [
      {
       "output_type": "stream",
       "stream": "stdout",
       "text": [
        "SELECT \"user\".id, \"user\".email, \"user\".password \n",
        "FROM \"user\" \n",
        "WHERE \"user\".email = :email_1\n"
       ]
      }
     ],
     "prompt_number": 16
    }
   ],
   "metadata": {}
  }
 ]
}